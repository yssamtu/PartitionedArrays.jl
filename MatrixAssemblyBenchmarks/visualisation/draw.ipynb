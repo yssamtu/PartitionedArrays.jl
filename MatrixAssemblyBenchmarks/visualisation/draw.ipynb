{
 "cells": [
  {
   "cell_type": "code",
   "execution_count": null,
   "id": "c8907e3e-b633-44a5-9e70-e6d1ba53b5c7",
   "metadata": {},
   "outputs": [],
   "source": [
    "from config import *\n",
    "from strongdata import StrongData, load_strong_scaling_data\n",
    "from weakdata import WeakData, load_weak_scaling_data"
   ]
  },
  {
   "cell_type": "markdown",
   "id": "094711a2-b64c-44ad-a51a-15af2c09f1f1",
   "metadata": {},
   "source": [
    "# Strong scaling data"
   ]
  },
  {
   "cell_type": "code",
   "execution_count": null,
   "id": "a7518436-13e2-496e-9fed-a5dd6c8d1a35",
   "metadata": {},
   "outputs": [],
   "source": [
    "strong_scaling = load_strong_scaling_data(folder)\n",
    "# strong_scaling.draw_data()\n",
    "# strong_scaling.__dir__()\n",
    "strong_scaling.draw_efficiency(data_sizes=320)\n",
    "# strong_scaling.nps = [1, 2, 4]\n",
    "# strong_scaling.draw_complexity(nps=[64])\n",
    "# strong_scaling.draw_speedup(data_sizes=320)\n",
    "# strong_scaling._StrongData__gathered_data.__dir__()\n",
    "# strong_scaling.draw_data(data_sizes=320, draw_type=\"lines\")\n",
    "# strong_scaling.draw_data(data_sizes=160)\n",
    "# strong_scaling.draw_data(data_sizes=80)\n",
    "# strong_scaling.draw_data(data_sizes=40)\n",
    "# strong_scaling.draw_data(data_sizes=20)"
   ]
  },
  {
   "cell_type": "code",
   "execution_count": null,
   "id": "4b65ca31-9bd8-477c-854c-2dedf9dce967",
   "metadata": {},
   "outputs": [],
   "source": [
    "strong_scaling = load_strong_scaling_data(folder, \"snellius\")\n",
    "print(strong_scaling.fs)\n",
    "strong_scaling.draw_data(data_sizes=320, draw_type=\"lines\")\n",
    "strong_scaling.draw_data(data_sizes=160)\n",
    "strong_scaling.draw_data(data_sizes=80)\n",
    "strong_scaling.draw_data(data_sizes=40)\n",
    "strong_scaling.draw_data(data_sizes=20)"
   ]
  },
  {
   "cell_type": "code",
   "execution_count": null,
   "id": "1189c161-0b74-444f-87d3-6dab3f7cd9bd",
   "metadata": {},
   "outputs": [],
   "source": [
    "# strong_scaling.draw_complexity(nps=32, fs=\"psparse\")"
   ]
  },
  {
   "cell_type": "code",
   "execution_count": null,
   "id": "b97abf6e-5e99-4b56-93d1-a845fc58fa08",
   "metadata": {},
   "outputs": [],
   "source": [
    "# strong_scaling.draw_speedup(data_sizes=320)\n",
    "# strong_scaling.draw_speedup(data_sizes=160)\n",
    "strong_scaling.draw_speedup(data_sizes=80)\n",
    "# strong_scaling.draw_speedup(data_sizes=40)\n",
    "# strong_scaling.draw_speedup(data_sizes=20)"
   ]
  },
  {
   "cell_type": "code",
   "execution_count": null,
   "id": "b685b1db-7b51-45bb-a7d2-a74a70bd60ec",
   "metadata": {},
   "outputs": [],
   "source": [
    "# strong_scaling.draw_efficiency(data_sizes=320)\n",
    "# strong_scaling.draw_efficiency(data_sizes=160)\n",
    "# strong_scaling.draw_efficiency(data_sizes=80)\n",
    "# strong_scaling.draw_efficiency(data_sizes=40)\n",
    "# strong_scaling.draw_efficiency(data_sizes=20)"
   ]
  },
  {
   "cell_type": "markdown",
   "id": "c5291512-827f-45ea-9fad-21f8257af06d",
   "metadata": {},
   "source": [
    "# Weak scaling data"
   ]
  },
  {
   "cell_type": "code",
   "execution_count": null,
   "id": "6ceab249-235e-43c1-b207-66c3160d4c0e",
   "metadata": {},
   "outputs": [],
   "source": [
    "weak_scaling = load_weak_scaling_data(folder)\n",
    "weak_scaling.draw_efficiency()\n",
    "weak_scaling.draw_data()\n",
    "# weak_scaling.__dir__()\n",
    "# weak_scaling.get_gathered_data()\n",
    "# weak_scaling.get_speedup()\n",
    "# weak_scaling.draw_data()\n",
    "weak_scaling.draw_speedup()"
   ]
  },
  {
   "cell_type": "code",
   "execution_count": null,
   "id": "c965ae5f-c6ff-4308-8c5a-87f410539ac9",
   "metadata": {},
   "outputs": [],
   "source": [
    "weak_scaling = load_weak_scaling_data(folder)\n",
    "weak_scaling.draw_efficiency()\n",
    "# weak_scaling.draw_data()\n",
    "# weak_scaling.__dir__()\n",
    "# weak_scaling.get_gathered_data()\n",
    "# weak_scaling.get_speedup()\n",
    "# weak_scaling.draw_data()\n",
    "# weak_scaling.draw_speedup()"
   ]
  },
  {
   "cell_type": "code",
   "execution_count": null,
   "id": "b409a58a-f280-41fc-b2fb-f4bd222a9766",
   "metadata": {},
   "outputs": [],
   "source": [
    "# weak_scaling.draw_efficiency()"
   ]
  },
  {
   "cell_type": "code",
   "execution_count": null,
   "id": "c5cbee86-1407-4cd6-9b75-58d4862e52d3",
   "metadata": {},
   "outputs": [],
   "source": [
    "a = [1, 2, 3]"
   ]
  },
  {
   "cell_type": "code",
   "execution_count": null,
   "id": "35fa8b26-2a1f-4ada-a29e-6470de3b481e",
   "metadata": {},
   "outputs": [],
   "source": [
    "# from collections.abc import Sequence\n",
    "if isinstance(a, list):\n",
    "    a = tuple(a)\n",
    "a"
   ]
  },
  {
   "cell_type": "code",
   "execution_count": null,
   "id": "11427bfc-d50a-4927-9284-d4ce36956421",
   "metadata": {
    "scrolled": true
   },
   "outputs": [],
   "source": [
    "# strong_scaling.data"
   ]
  },
  {
   "cell_type": "code",
   "execution_count": null,
   "id": "f5002ec9-0f3f-48c0-841b-c88a23a66c8e",
   "metadata": {
    "scrolled": true
   },
   "outputs": [],
   "source": [
    "strong_scaling.get_gathered_data(data_sizes=320, nps=[1,2])"
   ]
  },
  {
   "cell_type": "code",
   "execution_count": null,
   "id": "307493bc-44e0-416f-8cb3-4c103db08670",
   "metadata": {},
   "outputs": [],
   "source": [
    "data_sizes = [320, 160]\n",
    "nps = [1, 2, 4, 8, 16]\n",
    "fs = [\"psparse\"]\n",
    "times = [\"build_time\", \"rebuild_time\"]\n",
    "{data_size: {np: [{f: {time: case[f][time] for time in times}for f in fs} for case in data[data_size][np]] for np in nps} for data_size in data_sizes}"
   ]
  },
  {
   "cell_type": "code",
   "execution_count": null,
   "id": "697bdf94-6cb8-4cf2-ba0b-ad3600819b22",
   "metadata": {},
   "outputs": [],
   "source": [
    "()"
   ]
  },
  {
   "cell_type": "code",
   "execution_count": null,
   "id": "8871b87a-c4d5-451a-8350-fa2ed9d2fb33",
   "metadata": {},
   "outputs": [],
   "source": []
  },
  {
   "cell_type": "code",
   "execution_count": null,
   "id": "00e9023a-ea93-4c5e-9f41-5f25ee66f396",
   "metadata": {},
   "outputs": [],
   "source": []
  },
  {
   "cell_type": "code",
   "execution_count": null,
   "id": "60cbf604-94d0-4d18-8592-6e83f73c81ab",
   "metadata": {},
   "outputs": [],
   "source": []
  },
  {
   "cell_type": "code",
   "execution_count": null,
   "id": "1d74fca0-811e-4744-a617-f8c9b9034647",
   "metadata": {},
   "outputs": [],
   "source": []
  },
  {
   "cell_type": "code",
   "execution_count": null,
   "id": "ec7989c6-5212-4d5b-9e58-f7032151e446",
   "metadata": {},
   "outputs": [],
   "source": []
  },
  {
   "cell_type": "code",
   "execution_count": null,
   "id": "e397864f-f575-4ad6-a3a2-0d96d4ee8c37",
   "metadata": {},
   "outputs": [],
   "source": []
  },
  {
   "cell_type": "code",
   "execution_count": null,
   "id": "9b731d0e-9729-4cdb-a294-bca06005f4ca",
   "metadata": {},
   "outputs": [],
   "source": []
  },
  {
   "cell_type": "code",
   "execution_count": null,
   "id": "25297a7c-f22f-455a-a9e4-c153baea1301",
   "metadata": {},
   "outputs": [],
   "source": []
  },
  {
   "cell_type": "code",
   "execution_count": null,
   "id": "504cf4ca-30fb-408b-b65d-f721cb5c61d6",
   "metadata": {},
   "outputs": [],
   "source": []
  },
  {
   "cell_type": "code",
   "execution_count": null,
   "id": "15c08e81-7a36-4d23-9770-b871727f4205",
   "metadata": {},
   "outputs": [],
   "source": []
  },
  {
   "cell_type": "code",
   "execution_count": null,
   "id": "00d32432-4f88-44b8-83c4-995e36aed8df",
   "metadata": {},
   "outputs": [],
   "source": []
  },
  {
   "cell_type": "code",
   "execution_count": null,
   "id": "30e95a06-a598-4ccd-a506-d8262cec766a",
   "metadata": {},
   "outputs": [],
   "source": []
  },
  {
   "cell_type": "code",
   "execution_count": null,
   "id": "490b3cee-994a-4506-acad-1a2b3846bb06",
   "metadata": {},
   "outputs": [],
   "source": []
  },
  {
   "cell_type": "code",
   "execution_count": null,
   "id": "431c3ae7-ea7d-4772-a3ff-17da7a6d2b15",
   "metadata": {},
   "outputs": [],
   "source": []
  },
  {
   "cell_type": "code",
   "execution_count": null,
   "id": "33ea4790-bca5-4102-aed5-654de7f37b87",
   "metadata": {},
   "outputs": [],
   "source": []
  },
  {
   "cell_type": "code",
   "execution_count": null,
   "id": "f7061fe2-b957-469b-8ff7-686387a74a96",
   "metadata": {},
   "outputs": [],
   "source": []
  },
  {
   "cell_type": "code",
   "execution_count": null,
   "id": "837c39f5-2c27-4b4e-be78-23f53158ae97",
   "metadata": {},
   "outputs": [],
   "source": []
  },
  {
   "cell_type": "code",
   "execution_count": null,
   "id": "82df5467-cd99-4768-963d-74cd04d2aeae",
   "metadata": {},
   "outputs": [],
   "source": []
  },
  {
   "cell_type": "code",
   "execution_count": null,
   "id": "8a4c0855-9e6c-4d0f-a8e2-9e6d08fa34a4",
   "metadata": {},
   "outputs": [],
   "source": []
  },
  {
   "cell_type": "code",
   "execution_count": null,
   "id": "996a2b80-0131-403f-b20a-3faffd4a0bf3",
   "metadata": {},
   "outputs": [],
   "source": []
  },
  {
   "cell_type": "code",
   "execution_count": null,
   "id": "fc36f8ae-9b63-41d5-bf59-948662d951f9",
   "metadata": {},
   "outputs": [],
   "source": []
  },
  {
   "cell_type": "code",
   "execution_count": null,
   "id": "bdb55095-2f3a-4292-89fc-f2dbb9190dd6",
   "metadata": {},
   "outputs": [],
   "source": []
  },
  {
   "cell_type": "code",
   "execution_count": null,
   "id": "f40a938b-de9c-4494-9841-1f37ac0f3395",
   "metadata": {},
   "outputs": [],
   "source": []
  },
  {
   "cell_type": "code",
   "execution_count": null,
   "id": "b3c140b8-9dde-418e-adfb-bd281d8f6bd4",
   "metadata": {},
   "outputs": [],
   "source": []
  },
  {
   "cell_type": "code",
   "execution_count": null,
   "id": "327be1db-821b-45e7-a060-e60a0a308763",
   "metadata": {},
   "outputs": [],
   "source": []
  },
  {
   "cell_type": "code",
   "execution_count": null,
   "id": "2fd0cf18-b611-4e7f-962a-3219138bfe84",
   "metadata": {},
   "outputs": [],
   "source": []
  },
  {
   "cell_type": "code",
   "execution_count": null,
   "id": "3e612796-4fed-4eb1-8c07-683d874858dc",
   "metadata": {},
   "outputs": [],
   "source": []
  },
  {
   "cell_type": "code",
   "execution_count": null,
   "id": "6743464d-9933-4948-adb1-b5934ab0f61b",
   "metadata": {},
   "outputs": [],
   "source": []
  },
  {
   "cell_type": "code",
   "execution_count": null,
   "id": "5368b8f7-76ad-430a-8e6e-fef3859b5451",
   "metadata": {},
   "outputs": [],
   "source": []
  },
  {
   "cell_type": "code",
   "execution_count": null,
   "id": "6e31fbc0-7f70-472e-a84b-d91c9f1430fc",
   "metadata": {},
   "outputs": [],
   "source": []
  },
  {
   "cell_type": "code",
   "execution_count": null,
   "id": "f997cbc2-cf57-4bca-aa67-35aae0cf121e",
   "metadata": {},
   "outputs": [],
   "source": []
  },
  {
   "cell_type": "code",
   "execution_count": null,
   "id": "c51f0800-2d74-483e-b6cd-d53d0cf0ab3f",
   "metadata": {},
   "outputs": [],
   "source": []
  },
  {
   "cell_type": "code",
   "execution_count": null,
   "id": "71785bf8-8692-4798-9c00-e4f09d8a5838",
   "metadata": {},
   "outputs": [],
   "source": []
  },
  {
   "cell_type": "code",
   "execution_count": null,
   "id": "757a23b4-c6c3-4408-8f00-7333c63b0299",
   "metadata": {},
   "outputs": [],
   "source": []
  }
 ],
 "metadata": {
  "kernelspec": {
   "display_name": "Python 3 (ipykernel)",
   "language": "python",
   "name": "python3"
  },
  "language_info": {
   "codemirror_mode": {
    "name": "ipython",
    "version": 3
   },
   "file_extension": ".py",
   "mimetype": "text/x-python",
   "name": "python",
   "nbconvert_exporter": "python",
   "pygments_lexer": "ipython3",
   "version": "3.12.3"
  }
 },
 "nbformat": 4,
 "nbformat_minor": 5
}
